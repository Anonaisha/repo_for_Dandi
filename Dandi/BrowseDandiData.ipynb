{
  "cells": [
    {
      "cell_type": "code",
      "execution_count": null,
      "id": "fQUrp_NTQdjp",
      "metadata": {
        "id": "fQUrp_NTQdjp",
        "scrolled": false
      },
      "outputs": [],
      "source": [
        "# install dependencies\n",
        "!pip install dandi"
      ]
    },
    {
      "cell_type": "code",
      "execution_count": 4,
      "id": "c3daba16-4139-4bff-9aed-33c6990f4cf9",
      "metadata": {
        "id": "c3daba16-4139-4bff-9aed-33c6990f4cf9"
      },
      "outputs": [],
      "source": [
        "# import packages\n",
        "import json\n",
        "from dandi.dandiapi import DandiAPIClient\n",
        "from tqdm.notebook import tqdm\n",
        "import numpy as np\n",
        "from matplotlib.pyplot import *\n",
        "import operator\n",
        "\n",
        "# custom style-file for fontsizes, figuresizes etc\n",
        "# style.use(\"styleSettings.mplstyle\")\n"
      ]
    },
    {
      "cell_type": "code",
      "execution_count": 5,
      "id": "768cae44-2dde-4710-bd10-45466e49347d",
      "metadata": {
        "id": "768cae44-2dde-4710-bd10-45466e49347d"
      },
      "outputs": [],
      "source": [
        "# initilize the DANDI client to access datasets\n",
        "client = DandiAPIClient()\n",
        "dandisets = list(client.get_dandisets())"
      ]
    },
    {
      "cell_type": "code",
      "execution_count": 6,
      "id": "fb25d7d3-f9af-4143-8c57-0847bdb82d3f",
      "metadata": {
        "colab": {
          "base_uri": "https://localhost:8080/",
          "height": 66,
          "referenced_widgets": [
            "f70a7ac9084d4b1e95bac87936cc176b",
            "4be4d410c88349f08d20e6a99c1fdd93",
            "3565a4d3ff374293833005f491de649b",
            "5ea47bacbcbd40238a98cee706f00de0",
            "798284194e9e4bf1902652beea5e0dcb",
            "d93ae7c2f7384aba8af58d5047f9b287",
            "19ebec037adb47f8836856c3364f7d80",
            "b5b453f9c84a42beb7ef034201c86f4e",
            "18c7b05a02e84526acd3cea1332421dd",
            "8f37ac786207409c9f84471e26d6724f",
            "349c6ba134b642ab83113e8ac88ff559"
          ]
        },
        "id": "fb25d7d3-f9af-4143-8c57-0847bdb82d3f",
        "outputId": "beb6e8f1-ee95-4247-fd0d-f0aac437ae3b"
      },
      "outputs": [
        {
          "output_type": "display_data",
          "data": {
            "text/plain": [
              "  0%|          | 0/685 [00:00<?, ?it/s]"
            ],
            "application/vnd.jupyter.widget-view+json": {
              "version_major": 2,
              "version_minor": 0,
              "model_id": "f70a7ac9084d4b1e95bac87936cc176b"
            }
          },
          "metadata": {}
        },
        {
          "output_type": "stream",
          "name": "stdout",
          "text": [
            "There are currently 406 NWB datasets on DANDI!\n"
          ]
        }
      ],
      "source": [
        "nwb_dandisets = []\n",
        "\n",
        "for dandiset in tqdm(dandisets): # for each data set\n",
        "    raw_metadata = dandiset.get_raw_metadata() # get the metadata\n",
        "\n",
        "    # filter for NWB data sets only\n",
        "    if any(\n",
        "        \"NWB\" in data_standard[\"name\"]\n",
        "        for data_standard in raw_metadata[\"assetsSummary\"].get(\"dataStandard\", [])\n",
        "    ):\n",
        "        nwb_dandisets.append(dandiset)\n",
        "\n",
        "print(f\"There are currently {len(nwb_dandisets)} NWB datasets on DANDI!\")"
      ]
    },
    {
      "cell_type": "markdown",
      "id": "2784c83d-9a55-4f0a-8166-4991e236e95d",
      "metadata": {
        "id": "2784c83d-9a55-4f0a-8166-4991e236e95d"
      },
      "source": [
        "# How many dandisets exist per species?"
      ]
    },
    {
      "cell_type": "markdown",
      "id": "29196e12-5f24-4cb4-bddb-395ce36ed6c0",
      "metadata": {
        "id": "29196e12-5f24-4cb4-bddb-395ce36ed6c0"
      },
      "source": [
        "Let's get an overview of how many data sets are uploaded for a specific species."
      ]
    },
    {
      "cell_type": "code",
      "execution_count": 7,
      "id": "33844457-4ac4-4137-bbff-806807996024",
      "metadata": {
        "colab": {
          "base_uri": "https://localhost:8080/",
          "height": 66,
          "referenced_widgets": [
            "ff1e3f72534642588a60513770dc4de6",
            "037d503e52b941ae899066d17546afc5",
            "147aaa8493694a1fa87b08a57b3ac803",
            "d545ec3eb37e4036a27f9ae8c2d9a542",
            "e31dcf0f92794d69bdb4df1e9d4fe76e",
            "b472b49b5e8a46739ea2fe9a8ad02dc2",
            "7c16fdcdaf5742d6bed05f669e756aef",
            "c6917f2fb0e84dd4aeae1810b1d96fac",
            "e2ab80b5aec44bfcaaf3b0aadad26bcc",
            "354d11534a984cb7af536c20e20d8ba1",
            "97dca85d965c4f06b0181b8df06ae84b"
          ]
        },
        "id": "33844457-4ac4-4137-bbff-806807996024",
        "outputId": "e241b811-2c59-48a8-9ebd-e691ed67d2e0"
      },
      "outputs": [
        {
          "output_type": "display_data",
          "data": {
            "text/plain": [
              "  0%|          | 0/406 [00:00<?, ?it/s]"
            ],
            "application/vnd.jupyter.widget-view+json": {
              "version_major": 2,
              "version_minor": 0,
              "model_id": "ff1e3f72534642588a60513770dc4de6"
            }
          },
          "metadata": {}
        },
        {
          "output_type": "stream",
          "name": "stdout",
          "text": [
            "Chosen species account for 380 NWB datasets on DANDI.\n"
          ]
        }
      ],
      "source": [
        "# define which species we're interested in\n",
        "chosen_species = ['mouse', 'rat', 'human', 'monkey', 'fish', 'elegans', 'fly', 'rabbit', 'ant']\n",
        "dandiset_species = {s:[] for s in chosen_species}\n",
        "\n",
        "for dandiset in tqdm(nwb_dandisets):\n",
        "    raw_metadata = dandiset.get_raw_metadata() # get metadata of each data set\n",
        "    # try:\n",
        "    #     print(raw_metadata[\"assetsSummary\"]['species'][0]['name']) # check species names for intuition\n",
        "    # except:\n",
        "    #     continue\n",
        "    for specie in chosen_species: # loop over species\n",
        "        # append to list if data set is about the species in question\n",
        "        if any(\n",
        "            specie in species[\"name\"].lower()\n",
        "            for species in raw_metadata[\"assetsSummary\"].get(\"species\", [])\n",
        "        ):\n",
        "            dandiset_species[specie].append(raw_metadata['identifier'])\n",
        "\n",
        "# combine the two zebrafish names (sometimes names zebrafish, cometimes C. elegans)\n",
        "dandiset_species['fish'] = np.append(dandiset_species['fish'], dandiset_species['elegans'])\n",
        "dandiset_species.pop('elegans')\n",
        "chosen_species.remove('elegans')\n",
        "\n",
        "print(f\"Chosen species account for {np.sum([len(dandiset_species[s]) for s in chosen_species])} NWB datasets on DANDI.\")"
      ]
    },
    {
      "cell_type": "code",
      "execution_count": 8,
      "id": "94bb561d-20bb-46bd-b41c-01daa50dc70f",
      "metadata": {
        "colab": {
          "base_uri": "https://localhost:8080/",
          "height": 482
        },
        "id": "94bb561d-20bb-46bd-b41c-01daa50dc70f",
        "outputId": "f5edb957-2651-41cd-b63b-b77a0b7962dc"
      },
      "outputs": [
        {
          "output_type": "execute_result",
          "data": {
            "text/plain": [
              "Text(0, 0.5, '# of DANDI sets')"
            ]
          },
          "metadata": {},
          "execution_count": 8
        },
        {
          "output_type": "display_data",
          "data": {
            "text/plain": [
              "<Figure size 640x480 with 1 Axes>"
            ],
            "image/png": "[encoded data removed]"
          },
          "metadata": {}
        }
      ],
      "source": [
        "# get number of DANDISETS per species and sort by number of data sets\n",
        "num_species = {s: len(dandiset_species[s]) for s in chosen_species}\n",
        "num_species = dict(sorted(num_species.items(), key=lambda item: item[1], reverse=True))\n",
        "\n",
        "figure()\n",
        "for s_id, s in enumerate(num_species.keys()):\n",
        "    bar(s_id, num_species[s], color='cornflowerblue');\n",
        "\n",
        "# name the ticks\n",
        "xticks(np.arange(len(num_species)), num_species.keys(), rotation=45);\n",
        "ylabel('# of DANDI sets')\n",
        "# save the file if you want\n",
        "#savefig('./DatasetsBySpecies')"
      ]
    },
    {
      "cell_type": "markdown",
      "id": "5788f63c-d0d1-4ea7-a484-e3c6f0df0e56",
      "metadata": {
        "id": "5788f63c-d0d1-4ea7-a484-e3c6f0df0e56"
      },
      "source": [
        "# Which type of recordings are most often uploaded?"
      ]
    },
    {
      "cell_type": "code",
      "execution_count": 9,
      "id": "0f0c0773-b16f-44c0-9776-0db731649365",
      "metadata": {
        "colab": {
          "base_uri": "https://localhost:8080/",
          "height": 66,
          "referenced_widgets": [
            "dd83f209361b4bc1abb9d38c759d2288",
            "1415bc751abe48c7a832ea2caf7c5efc",
            "e7025a275f0241f7809b32ad7d62fa1a",
            "56a402264a52442d868d2d116a641319",
            "ee09abcd8c784291b6bdfe599d09786a",
            "631d9cd427ed48ad900b9d466334bb4e",
            "cc3b1872405a4bef9712a2163581b6e0",
            "8bbed44903ae4453941467882e1425f5",
            "54ac7fbd2b2047ceaa055ecf61f5648d",
            "81d6406b72ab4560aa12147dc234c824",
            "8cdd6eaf81fa42e38e3e4e5b6dd738fa"
          ]
        },
        "id": "0f0c0773-b16f-44c0-9776-0db731649365",
        "outputId": "f5f2c2ab-d535-4410-dc59-1dac2a8490d2"
      },
      "outputs": [
        {
          "output_type": "display_data",
          "data": {
            "text/plain": [
              "  0%|          | 0/406 [00:00<?, ?it/s]"
            ],
            "application/vnd.jupyter.widget-view+json": {
              "version_major": 2,
              "version_minor": 0,
              "model_id": "dd83f209361b4bc1abb9d38c759d2288"
            }
          },
          "metadata": {}
        },
        {
          "output_type": "stream",
          "name": "stdout",
          "text": [
            "Chosen recordings account for 275 NWB datasets on DANDI.\n"
          ]
        }
      ],
      "source": [
        "chosen_recordings = ['microscopy', 'electrophysiolog', 'two-photon', 'one-photon', 'current clamp', 'voltage clamp']\n",
        "dandiset_recording = {r:[] for r in chosen_recordings}\n",
        "\n",
        "for dandiset in tqdm(nwb_dandisets):\n",
        "    raw_metadata = dandiset.get_raw_metadata()\n",
        "    # try: #explore the chosen names for variable techniques\n",
        "    #     print(' '.join([i['name'] for i in raw_metadata[\"assetsSummary\"]['measurementTechnique']])) # check species names\n",
        "    # except:\n",
        "    #     continue\n",
        "    for record in chosen_recordings: # determine which of the specified techniques is used\n",
        "        if record in ' '.join([i['name'] for i in raw_metadata[\"assetsSummary\"]['measurementTechnique']]):\n",
        "            dandiset_recording[record].append(raw_metadata['identifier'])\n",
        "\n",
        "print(f\"Chosen recordings account for {np.sum([len(dandiset_recording[r]) for r in chosen_recordings])} NWB datasets on DANDI.\")"
      ]
    },
    {
      "cell_type": "code",
      "execution_count": 13,
      "id": "3365ab66-168d-4bd5-967b-b5add6301a9e",
      "metadata": {
        "colab": {
          "base_uri": "https://localhost:8080/",
          "height": 524
        },
        "id": "3365ab66-168d-4bd5-967b-b5add6301a9e",
        "outputId": "5a238bb1-4bf0-4e53-a7c6-511ee7a251e3"
      },
      "outputs": [
        {
          "output_type": "execute_result",
          "data": {
            "text/plain": [
              "Text(0, 0.5, '# of DANDI sets')"
            ]
          },
          "metadata": {},
          "execution_count": 13
        },
        {
          "output_type": "display_data",
          "data": {
            "text/plain": [
              "<Figure size 640x480 with 1 Axes>"
            ],
            "image/png": "[encoded data removed]"
          },
          "metadata": {}
        }
      ],
      "source": [
        "# get number of DANDISETS per species, sort by occurence\n",
        "num_recording = {s: len(dandiset_recording[s]) for s in chosen_recordings}\n",
        "num_recording = dict(sorted(num_recording.items(), key=lambda item: item[1], reverse=True))\n",
        "\n",
        "figure()\n",
        "for r_id, r in enumerate(num_recording.keys()):\n",
        "  bar(r_id, num_recording[r], color=\"cornflowerblue\")\n",
        "    # TODO! plot the recording type and number of recordings similar to before\n",
        "\n",
        "xticks(np.arange(len(num_recording)), num_recording.keys(), rotation=45);\n",
        "ylabel('# of DANDI sets')\n",
        "#savefig('./DatasetsByImaging')"
      ]
    },
    {
      "cell_type": "markdown",
      "id": "e5247bb4-9792-4fa7-ad69-6b210f39aaa8",
      "metadata": {
        "id": "e5247bb4-9792-4fa7-ad69-6b210f39aaa8"
      },
      "source": [
        "# Let's look for a specific dataset!"
      ]
    },
    {
      "cell_type": "markdown",
      "id": "d8c7bec3-83e3-448e-81fe-d08f900efc00",
      "metadata": {
        "id": "d8c7bec3-83e3-448e-81fe-d08f900efc00"
      },
      "source": [
        "Let's get more specific. We want to get the DANDI IDs to check out specific projects. Let's imagine we're interested in all mouse data sets using two-photon imaging..."
      ]
    },
    {
      "cell_type": "code",
      "execution_count": 14,
      "id": "68d856ca-5cd1-42eb-8ff5-04ee615e1933",
      "metadata": {
        "colab": {
          "base_uri": "https://localhost:8080/",
          "height": 66,
          "referenced_widgets": [
            "8620cac5ff1046959fd1bb58ba9f9b47",
            "04090702a1d1444191530cad7e9df20a",
            "d137705878404c29849bed491f04eaff",
            "77564fb1a4dc4a7b87424ddab92fd60f",
            "7b85c6abc63e489db8eff92d95c20730",
            "baca26543b78465bb79fb203b72b0061",
            "005465a6b0f84485a9499270c6582e5b",
            "82514f9239bd4fe8ac8741dc18e81331",
            "d41c8d68995549348f9d2ea34411fe27",
            "a6ebc755dd144ed1aeeb5223f59fa547",
            "87130aaf26fe426d89fa8f52ddd3c820"
          ]
        },
        "id": "68d856ca-5cd1-42eb-8ff5-04ee615e1933",
        "outputId": "53541786-3a76-43e2-f311-687a1bdf4333"
      },
      "outputs": [
        {
          "output_type": "display_data",
          "data": {
            "text/plain": [
              "  0%|          | 0/406 [00:00<?, ?it/s]"
            ],
            "application/vnd.jupyter.widget-view+json": {
              "version_major": 2,
              "version_minor": 0,
              "model_id": "8620cac5ff1046959fd1bb58ba9f9b47"
            }
          },
          "metadata": {}
        },
        {
          "output_type": "stream",
          "name": "stdout",
          "text": [
            "There are 29 experiments matching: {'species': 'mouse', 'recording': 'two-photon'} .\n"
          ]
        }
      ],
      "source": [
        "# example: mouse + two-photon\n",
        "variables = {'species': 'mouse', 'recording': 'two-photon'}\n",
        "\n",
        "specifc_recording = []\n",
        "for dandiset in tqdm(nwb_dandisets): # search all dandisets\n",
        "    raw_metadata = dandiset.get_raw_metadata()\n",
        "\n",
        "    if any(variables['species'] in species[\"name\"].lower() for species in raw_metadata[\"assetsSummary\"].get(\"species\", [])) &\\\n",
        "                (variables['recording'] in ' '.join([i['name'] for i in raw_metadata[\"assetsSummary\"]['measurementTechnique']])): # specify variables of interest\n",
        "            specifc_recording.append(raw_metadata['identifier'])\n",
        "\n",
        "print(f'There are {len(specifc_recording)} experiments matching: {variables} .')"
      ]
    },
    {
      "cell_type": "markdown",
      "id": "25af73c3-2574-4be9-98a3-701da173c848",
      "metadata": {
        "id": "25af73c3-2574-4be9-98a3-701da173c848"
      },
      "source": [
        "## Load one specific example experiment to explore in more depth"
      ]
    },
    {
      "cell_type": "markdown",
      "id": "179b9756-5df0-4476-812f-e8264dfc3e82",
      "metadata": {
        "id": "179b9756-5df0-4476-812f-e8264dfc3e82"
      },
      "source": [
        "We can also look at the details of specific experiments. For example let's see the details to the first DANDI ID we identified using mice and two-photon imaging above to see the details of the experiments, potentially linked papers, number of subjects, etc."
      ]
    },
    {
      "cell_type": "code",
      "execution_count": null,
      "id": "0249dd28-4926-4b6d-bca8-8e935c08477f",
      "metadata": {
        "id": "0249dd28-4926-4b6d-bca8-8e935c08477f",
        "scrolled": true
      },
      "outputs": [],
      "source": [
        "# get example session name\n",
        "example_set = specifc_recording[0].replace('DANDI:','')\n",
        "# get the associated dataset\n",
        "dandiset = client.get_dandiset(example_set)\n",
        "# print the belonging metadata\n",
        "print(f\"Example DANDI set {example_set} metadata:\\n\")\n",
        "dandiset.get_raw_metadata()"
      ]
    },
    {
      "cell_type": "markdown",
      "id": "19311b88-e929-49e9-a5bf-1bc6fa35f2eb",
      "metadata": {
        "id": "19311b88-e929-49e9-a5bf-1bc6fa35f2eb"
      },
      "source": [
        "If this approach seems too messy, you can always explore the datasets more visually on https://dandiarchive.org/ and enter the DANDI ID of interest there.\\\n",
        "You can also explore the dataset directly in the DANDIHUB without having to download. Also check in the dandi-notebooks folder to see if there is already an associated example notebook to get you started."
      ]
    },
    {
      "cell_type": "code",
      "execution_count": null,
      "id": "cf1d16df-a38a-465b-a38e-bf5029d0f7ed",
      "metadata": {
        "id": "cf1d16df-a38a-465b-a38e-bf5029d0f7ed"
      },
      "outputs": [],
      "source": []
    }
  ],
  "metadata": {
    "colab": {
      "provenance": []
    },
    "kernelspec": {
      "display_name": "Python 3",
      "language": "python",
      "name": "python3"
    },
    "language_info": {
      "codemirror_mode": {
        "name": "ipython",
        "version": 3
      },
      "file_extension": ".py",
      "mimetype": "text/x-python",
      "name": "python",
      "nbconvert_exporter": "python",
      "pygments_lexer": "ipython3",
      "version": "3.6.13"
    },
    "widgets": {
      "application/vnd.jupyter.widget-state+json": {
        "f70a7ac9084d4b1e95bac87936cc176b": {
          "model_module": "@jupyter-widgets/controls",
          "model_name": "HBoxModel",
          "model_module_version": "1.5.0",
          "state": {
            "_dom_classes": [],
            "_model_module": "@jupyter-widgets/controls",
            "_model_module_version": "1.5.0",
            "_model_name": "HBoxModel",
            "_view_count": null,
            "_view_module": "@jupyter-widgets/controls",
            "_view_module_version": "1.5.0",
            "_view_name": "HBoxView",
            "box_style": "",
            "children": [
              "IPY_MODEL_4be4d410c88349f08d20e6a99c1fdd93",
              "IPY_MODEL_3565a4d3ff374293833005f491de649b",
              "IPY_MODEL_5ea47bacbcbd40238a98cee706f00de0"
            ],
            "layout": "IPY_MODEL_798284194e9e4bf1902652beea5e0dcb"
          }
        },
        "4be4d410c88349f08d20e6a99c1fdd93": {
          "model_module": "@jupyter-widgets/controls",
          "model_name": "HTMLModel",
          "model_module_version": "1.5.0",
          "state": {
            "_dom_classes": [],
            "_model_module": "@jupyter-widgets/controls",
            "_model_module_version": "1.5.0",
            "_model_name": "HTMLModel",
            "_view_count": null,
            "_view_module": "@jupyter-widgets/controls",
            "_view_module_version": "1.5.0",
            "_view_name": "HTMLView",
            "description": "",
            "description_tooltip": null,
            "layout": "IPY_MODEL_d93ae7c2f7384aba8af58d5047f9b287",
            "placeholder": "​",
            "style": "IPY_MODEL_19ebec037adb47f8836856c3364f7d80",
            "value": "100%"
          }
        },
        "3565a4d3ff374293833005f491de649b": {
          "model_module": "@jupyter-widgets/controls",
          "model_name": "FloatProgressModel",
          "model_module_version": "1.5.0",
          "state": {
            "_dom_classes": [],
            "_model_module": "@jupyter-widgets/controls",
            "_model_module_version": "1.5.0",
            "_model_name": "FloatProgressModel",
            "_view_count": null,
            "_view_module": "@jupyter-widgets/controls",
            "_view_module_version": "1.5.0",
            "_view_name": "ProgressView",
            "bar_style": "success",
            "description": "",
            "description_tooltip": null,
            "layout": "IPY_MODEL_b5b453f9c84a42beb7ef034201c86f4e",
            "max": 685,
            "min": 0,
            "orientation": "horizontal",
            "style": "IPY_MODEL_18c7b05a02e84526acd3cea1332421dd",
            "value": 685
          }
        },
        "5ea47bacbcbd40238a98cee706f00de0": {
          "model_module": "@jupyter-widgets/controls",
          "model_name": "HTMLModel",
          "model_module_version": "1.5.0",
          "state": {
            "_dom_classes": [],
            "_model_module": "@jupyter-widgets/controls",
            "_model_module_version": "1.5.0",
            "_model_name": "HTMLModel",
            "_view_count": null,
            "_view_module": "@jupyter-widgets/controls",
            "_view_module_version": "1.5.0",
            "_view_name": "HTMLView",
            "description": "",
            "description_tooltip": null,
            "layout": "IPY_MODEL_8f37ac786207409c9f84471e26d6724f",
            "placeholder": "​",
            "style": "IPY_MODEL_349c6ba134b642ab83113e8ac88ff559",
            "value": " 685/685 [00:25&lt;00:00, 25.72it/s]"
          }
        },
        "798284194e9e4bf1902652beea5e0dcb": {
          "model_module": "@jupyter-widgets/base",
          "model_name": "LayoutModel",
          "model_module_version": "1.2.0",
          "state": {
            "_model_module": "@jupyter-widgets/base",
            "_model_module_version": "1.2.0",
            "_model_name": "LayoutModel",
            "_view_count": null,
            "_view_module": "@jupyter-widgets/base",
            "_view_module_version": "1.2.0",
            "_view_name": "LayoutView",
            "align_content": null,
            "align_items": null,
            "align_self": null,
            "border": null,
            "bottom": null,
            "display": null,
            "flex": null,
            "flex_flow": null,
            "grid_area": null,
            "grid_auto_columns": null,
            "grid_auto_flow": null,
            "grid_auto_rows": null,
            "grid_column": null,
            "grid_gap": null,
            "grid_row": null,
            "grid_template_areas": null,
            "grid_template_columns": null,
            "grid_template_rows": null,
            "height": null,
            "justify_content": null,
            "justify_items": null,
            "left": null,
            "margin": null,
            "max_height": null,
            "max_width": null,
            "min_height": null,
            "min_width": null,
            "object_fit": null,
            "object_position": null,
            "order": null,
            "overflow": null,
            "overflow_x": null,
            "overflow_y": null,
            "padding": null,
            "right": null,
            "top": null,
            "visibility": null,
            "width": null
          }
        },
        "d93ae7c2f7384aba8af58d5047f9b287": {
          "model_module": "@jupyter-widgets/base",
          "model_name": "LayoutModel",
          "model_module_version": "1.2.0",
          "state": {
            "_model_module": "@jupyter-widgets/base",
            "_model_module_version": "1.2.0",
            "_model_name": "LayoutModel",
            "_view_count": null,
            "_view_module": "@jupyter-widgets/base",
            "_view_module_version": "1.2.0",
            "_view_name": "LayoutView",
            "align_content": null,
            "align_items": null,
            "align_self": null,
            "border": null,
            "bottom": null,
            "display": null,
            "flex": null,
            "flex_flow": null,
            "grid_area": null,
            "grid_auto_columns": null,
            "grid_auto_flow": null,
            "grid_auto_rows": null,
            "grid_column": null,
            "grid_gap": null,
            "grid_row": null,
            "grid_template_areas": null,
            "grid_template_columns": null,
            "grid_template_rows": null,
            "height": null,
            "justify_content": null,
            "justify_items": null,
            "left": null,
            "margin": null,
            "max_height": null,
            "max_width": null,
            "min_height": null,
            "min_width": null,
            "object_fit": null,
            "object_position": null,
            "order": null,
            "overflow": null,
            "overflow_x": null,
            "overflow_y": null,
            "padding": null,
            "right": null,
            "top": null,
            "visibility": null,
            "width": null
          }
        },
        "19ebec037adb47f8836856c3364f7d80": {
          "model_module": "@jupyter-widgets/controls",
          "model_name": "DescriptionStyleModel",
          "model_module_version": "1.5.0",
          "state": {
            "_model_module": "@jupyter-widgets/controls",
            "_model_module_version": "1.5.0",
            "_model_name": "DescriptionStyleModel",
            "_view_count": null,
            "_view_module": "@jupyter-widgets/base",
            "_view_module_version": "1.2.0",
            "_view_name": "StyleView",
            "description_width": ""
          }
        },
        "b5b453f9c84a42beb7ef034201c86f4e": {
          "model_module": "@jupyter-widgets/base",
          "model_name": "LayoutModel",
          "model_module_version": "1.2.0",
          "state": {
            "_model_module": "@jupyter-widgets/base",
            "_model_module_version": "1.2.0",
            "_model_name": "LayoutModel",
            "_view_count": null,
            "_view_module": "@jupyter-widgets/base",
            "_view_module_version": "1.2.0",
            "_view_name": "LayoutView",
            "align_content": null,
            "align_items": null,
            "align_self": null,
            "border": null,
            "bottom": null,
            "display": null,
            "flex": null,
            "flex_flow": null,
            "grid_area": null,
            "grid_auto_columns": null,
            "grid_auto_flow": null,
            "grid_auto_rows": null,
            "grid_column": null,
            "grid_gap": null,
            "grid_row": null,
            "grid_template_areas": null,
            "grid_template_columns": null,
            "grid_template_rows": null,
            "height": null,
            "justify_content": null,
            "justify_items": null,
            "left": null,
            "margin": null,
            "max_height": null,
            "max_width": null,
            "min_height": null,
            "min_width": null,
            "object_fit": null,
            "object_position": null,
            "order": null,
            "overflow": null,
            "overflow_x": null,
            "overflow_y": null,
            "padding": null,
            "right": null,
            "top": null,
            "visibility": null,
            "width": null
          }
        },
        "18c7b05a02e84526acd3cea1332421dd": {
          "model_module": "@jupyter-widgets/controls",
          "model_name": "ProgressStyleModel",
          "model_module_version": "1.5.0",
          "state": {
            "_model_module": "@jupyter-widgets/controls",
            "_model_module_version": "1.5.0",
            "_model_name": "ProgressStyleModel",
            "_view_count": null,
            "_view_module": "@jupyter-widgets/base",
            "_view_module_version": "1.2.0",
            "_view_name": "StyleView",
            "bar_color": null,
            "description_width": ""
          }
        },
        "8f37ac786207409c9f84471e26d6724f": {
          "model_module": "@jupyter-widgets/base",
          "model_name": "LayoutModel",
          "model_module_version": "1.2.0",
          "state": {
            "_model_module": "@jupyter-widgets/base",
            "_model_module_version": "1.2.0",
            "_model_name": "LayoutModel",
            "_view_count": null,
            "_view_module": "@jupyter-widgets/base",
            "_view_module_version": "1.2.0",
            "_view_name": "LayoutView",
            "align_content": null,
            "align_items": null,
            "align_self": null,
            "border": null,
            "bottom": null,
            "display": null,
            "flex": null,
            "flex_flow": null,
            "grid_area": null,
            "grid_auto_columns": null,
            "grid_auto_flow": null,
            "grid_auto_rows": null,
            "grid_column": null,
            "grid_gap": null,
            "grid_row": null,
            "grid_template_areas": null,
            "grid_template_columns": null,
            "grid_template_rows": null,
            "height": null,
            "justify_content": null,
            "justify_items": null,
            "left": null,
            "margin": null,
            "max_height": null,
            "max_width": null,
            "min_height": null,
            "min_width": null,
            "object_fit": null,
            "object_position": null,
            "order": null,
            "overflow": null,
            "overflow_x": null,
            "overflow_y": null,
            "padding": null,
            "right": null,
            "top": null,
            "visibility": null,
            "width": null
          }
        },
        "349c6ba134b642ab83113e8ac88ff559": {
          "model_module": "@jupyter-widgets/controls",
          "model_name": "DescriptionStyleModel",
          "model_module_version": "1.5.0",
          "state": {
            "_model_module": "@jupyter-widgets/controls",
            "_model_module_version": "1.5.0",
            "_model_name": "DescriptionStyleModel",
            "_view_count": null,
            "_view_module": "@jupyter-widgets/base",
            "_view_module_version": "1.2.0",
            "_view_name": "StyleView",
            "description_width": ""
          }
        },
        "ff1e3f72534642588a60513770dc4de6": {
          "model_module": "@jupyter-widgets/controls",
          "model_name": "HBoxModel",
          "model_module_version": "1.5.0",
          "state": {
            "_dom_classes": [],
            "_model_module": "@jupyter-widgets/controls",
            "_model_module_version": "1.5.0",
            "_model_name": "HBoxModel",
            "_view_count": null,
            "_view_module": "@jupyter-widgets/controls",
            "_view_module_version": "1.5.0",
            "_view_name": "HBoxView",
            "box_style": "",
            "children": [
              "IPY_MODEL_037d503e52b941ae899066d17546afc5",
              "IPY_MODEL_147aaa8493694a1fa87b08a57b3ac803",
              "IPY_MODEL_d545ec3eb37e4036a27f9ae8c2d9a542"
            ],
            "layout": "IPY_MODEL_e31dcf0f92794d69bdb4df1e9d4fe76e"
          }
        },
        "037d503e52b941ae899066d17546afc5": {
          "model_module": "@jupyter-widgets/controls",
          "model_name": "HTMLModel",
          "model_module_version": "1.5.0",
          "state": {
            "_dom_classes": [],
            "_model_module": "@jupyter-widgets/controls",
            "_model_module_version": "1.5.0",
            "_model_name": "HTMLModel",
            "_view_count": null,
            "_view_module": "@jupyter-widgets/controls",
            "_view_module_version": "1.5.0",
            "_view_name": "HTMLView",
            "description": "",
            "description_tooltip": null,
            "layout": "IPY_MODEL_b472b49b5e8a46739ea2fe9a8ad02dc2",
            "placeholder": "​",
            "style": "IPY_MODEL_7c16fdcdaf5742d6bed05f669e756aef",
            "value": "100%"
          }
        },
        "147aaa8493694a1fa87b08a57b3ac803": {
          "model_module": "@jupyter-widgets/controls",
          "model_name": "FloatProgressModel",
          "model_module_version": "1.5.0",
          "state": {
            "_dom_classes": [],
            "_model_module": "@jupyter-widgets/controls",
            "_model_module_version": "1.5.0",
            "_model_name": "FloatProgressModel",
            "_view_count": null,
            "_view_module": "@jupyter-widgets/controls",
            "_view_module_version": "1.5.0",
            "_view_name": "ProgressView",
            "bar_style": "success",
            "description": "",
            "description_tooltip": null,
            "layout": "IPY_MODEL_c6917f2fb0e84dd4aeae1810b1d96fac",
            "max": 406,
            "min": 0,
            "orientation": "horizontal",
            "style": "IPY_MODEL_e2ab80b5aec44bfcaaf3b0aadad26bcc",
            "value": 406
          }
        },
        "d545ec3eb37e4036a27f9ae8c2d9a542": {
          "model_module": "@jupyter-widgets/controls",
          "model_name": "HTMLModel",
          "model_module_version": "1.5.0",
          "state": {
            "_dom_classes": [],
            "_model_module": "@jupyter-widgets/controls",
            "_model_module_version": "1.5.0",
            "_model_name": "HTMLModel",
            "_view_count": null,
            "_view_module": "@jupyter-widgets/controls",
            "_view_module_version": "1.5.0",
            "_view_name": "HTMLView",
            "description": "",
            "description_tooltip": null,
            "layout": "IPY_MODEL_354d11534a984cb7af536c20e20d8ba1",
            "placeholder": "​",
            "style": "IPY_MODEL_97dca85d965c4f06b0181b8df06ae84b",
            "value": " 406/406 [00:17&lt;00:00, 19.54it/s]"
          }
        },
        "e31dcf0f92794d69bdb4df1e9d4fe76e": {
          "model_module": "@jupyter-widgets/base",
          "model_name": "LayoutModel",
          "model_module_version": "1.2.0",
          "state": {
            "_model_module": "@jupyter-widgets/base",
            "_model_module_version": "1.2.0",
            "_model_name": "LayoutModel",
            "_view_count": null,
            "_view_module": "@jupyter-widgets/base",
            "_view_module_version": "1.2.0",
            "_view_name": "LayoutView",
            "align_content": null,
            "align_items": null,
            "align_self": null,
            "border": null,
            "bottom": null,
            "display": null,
            "flex": null,
            "flex_flow": null,
            "grid_area": null,
            "grid_auto_columns": null,
            "grid_auto_flow": null,
            "grid_auto_rows": null,
            "grid_column": null,
            "grid_gap": null,
            "grid_row": null,
            "grid_template_areas": null,
            "grid_template_columns": null,
            "grid_template_rows": null,
            "height": null,
            "justify_content": null,
            "justify_items": null,
            "left": null,
            "margin": null,
            "max_height": null,
            "max_width": null,
            "min_height": null,
            "min_width": null,
            "object_fit": null,
            "object_position": null,
            "order": null,
            "overflow": null,
            "overflow_x": null,
            "overflow_y": null,
            "padding": null,
            "right": null,
            "top": null,
            "visibility": null,
            "width": null
          }
        },
        "b472b49b5e8a46739ea2fe9a8ad02dc2": {
          "model_module": "@jupyter-widgets/base",
          "model_name": "LayoutModel",
          "model_module_version": "1.2.0",
          "state": {
            "_model_module": "@jupyter-widgets/base",
            "_model_module_version": "1.2.0",
            "_model_name": "LayoutModel",
            "_view_count": null,
            "_view_module": "@jupyter-widgets/base",
            "_view_module_version": "1.2.0",
            "_view_name": "LayoutView",
            "align_content": null,
            "align_items": null,
            "align_self": null,
            "border": null,
            "bottom": null,
            "display": null,
            "flex": null,
            "flex_flow": null,
            "grid_area": null,
            "grid_auto_columns": null,
            "grid_auto_flow": null,
            "grid_auto_rows": null,
            "grid_column": null,
            "grid_gap": null,
            "grid_row": null,
            "grid_template_areas": null,
            "grid_template_columns": null,
            "grid_template_rows": null,
            "height": null,
            "justify_content": null,
            "justify_items": null,
            "left": null,
            "margin": null,
            "max_height": null,
            "max_width": null,
            "min_height": null,
            "min_width": null,
            "object_fit": null,
            "object_position": null,
            "order": null,
            "overflow": null,
            "overflow_x": null,
            "overflow_y": null,
            "padding": null,
            "right": null,
            "top": null,
            "visibility": null,
            "width": null
          }
        },
        "7c16fdcdaf5742d6bed05f669e756aef": {
          "model_module": "@jupyter-widgets/controls",
          "model_name": "DescriptionStyleModel",
          "model_module_version": "1.5.0",
          "state": {
            "_model_module": "@jupyter-widgets/controls",
            "_model_module_version": "1.5.0",
            "_model_name": "DescriptionStyleModel",
            "_view_count": null,
            "_view_module": "@jupyter-widgets/base",
            "_view_module_version": "1.2.0",
            "_view_name": "StyleView",
            "description_width": ""
          }
        },
        "c6917f2fb0e84dd4aeae1810b1d96fac": {
          "model_module": "@jupyter-widgets/base",
          "model_name": "LayoutModel",
          "model_module_version": "1.2.0",
          "state": {
            "_model_module": "@jupyter-widgets/base",
            "_model_module_version": "1.2.0",
            "_model_name": "LayoutModel",
            "_view_count": null,
            "_view_module": "@jupyter-widgets/base",
            "_view_module_version": "1.2.0",
            "_view_name": "LayoutView",
            "align_content": null,
            "align_items": null,
            "align_self": null,
            "border": null,
            "bottom": null,
            "display": null,
            "flex": null,
            "flex_flow": null,
            "grid_area": null,
            "grid_auto_columns": null,
            "grid_auto_flow": null,
            "grid_auto_rows": null,
            "grid_column": null,
            "grid_gap": null,
            "grid_row": null,
            "grid_template_areas": null,
            "grid_template_columns": null,
            "grid_template_rows": null,
            "height": null,
            "justify_content": null,
            "justify_items": null,
            "left": null,
            "margin": null,
            "max_height": null,
            "max_width": null,
            "min_height": null,
            "min_width": null,
            "object_fit": null,
            "object_position": null,
            "order": null,
            "overflow": null,
            "overflow_x": null,
            "overflow_y": null,
            "padding": null,
            "right": null,
            "top": null,
            "visibility": null,
            "width": null
          }
        },
        "e2ab80b5aec44bfcaaf3b0aadad26bcc": {
          "model_module": "@jupyter-widgets/controls",
          "model_name": "ProgressStyleModel",
          "model_module_version": "1.5.0",
          "state": {
            "_model_module": "@jupyter-widgets/controls",
            "_model_module_version": "1.5.0",
            "_model_name": "ProgressStyleModel",
            "_view_count": null,
            "_view_module": "@jupyter-widgets/base",
            "_view_module_version": "1.2.0",
            "_view_name": "StyleView",
            "bar_color": null,
            "description_width": ""
          }
        },
        "354d11534a984cb7af536c20e20d8ba1": {
          "model_module": "@jupyter-widgets/base",
          "model_name": "LayoutModel",
          "model_module_version": "1.2.0",
          "state": {
            "_model_module": "@jupyter-widgets/base",
            "_model_module_version": "1.2.0",
            "_model_name": "LayoutModel",
            "_view_count": null,
            "_view_module": "@jupyter-widgets/base",
            "_view_module_version": "1.2.0",
            "_view_name": "LayoutView",
            "align_content": null,
            "align_items": null,
            "align_self": null,
            "border": null,
            "bottom": null,
            "display": null,
            "flex": null,
            "flex_flow": null,
            "grid_area": null,
            "grid_auto_columns": null,
            "grid_auto_flow": null,
            "grid_auto_rows": null,
            "grid_column": null,
            "grid_gap": null,
            "grid_row": null,
            "grid_template_areas": null,
            "grid_template_columns": null,
            "grid_template_rows": null,
            "height": null,
            "justify_content": null,
            "justify_items": null,
            "left": null,
            "margin": null,
            "max_height": null,
            "max_width": null,
            "min_height": null,
            "min_width": null,
            "object_fit": null,
            "object_position": null,
            "order": null,
            "overflow": null,
            "overflow_x": null,
            "overflow_y": null,
            "padding": null,
            "right": null,
            "top": null,
            "visibility": null,
            "width": null
          }
        },
        "97dca85d965c4f06b0181b8df06ae84b": {
          "model_module": "@jupyter-widgets/controls",
          "model_name": "DescriptionStyleModel",
          "model_module_version": "1.5.0",
          "state": {
            "_model_module": "@jupyter-widgets/controls",
            "_model_module_version": "1.5.0",
            "_model_name": "DescriptionStyleModel",
            "_view_count": null,
            "_view_module": "@jupyter-widgets/base",
            "_view_module_version": "1.2.0",
            "_view_name": "StyleView",
            "description_width": ""
          }
        },
        "dd83f209361b4bc1abb9d38c759d2288": {
          "model_module": "@jupyter-widgets/controls",
          "model_name": "HBoxModel",
          "model_module_version": "1.5.0",
          "state": {
            "_dom_classes": [],
            "_model_module": "@jupyter-widgets/controls",
            "_model_module_version": "1.5.0",
            "_model_name": "HBoxModel",
            "_view_count": null,
            "_view_module": "@jupyter-widgets/controls",
            "_view_module_version": "1.5.0",
            "_view_name": "HBoxView",
            "box_style": "",
            "children": [
              "IPY_MODEL_1415bc751abe48c7a832ea2caf7c5efc",
              "IPY_MODEL_e7025a275f0241f7809b32ad7d62fa1a",
              "IPY_MODEL_56a402264a52442d868d2d116a641319"
            ],
            "layout": "IPY_MODEL_ee09abcd8c784291b6bdfe599d09786a"
          }
        },
        "1415bc751abe48c7a832ea2caf7c5efc": {
          "model_module": "@jupyter-widgets/controls",
          "model_name": "HTMLModel",
          "model_module_version": "1.5.0",
          "state": {
            "_dom_classes": [],
            "_model_module": "@jupyter-widgets/controls",
            "_model_module_version": "1.5.0",
            "_model_name": "HTMLModel",
            "_view_count": null,
            "_view_module": "@jupyter-widgets/controls",
            "_view_module_version": "1.5.0",
            "_view_name": "HTMLView",
            "description": "",
            "description_tooltip": null,
            "layout": "IPY_MODEL_631d9cd427ed48ad900b9d466334bb4e",
            "placeholder": "​",
            "style": "IPY_MODEL_cc3b1872405a4bef9712a2163581b6e0",
            "value": "100%"
          }
        },
        "e7025a275f0241f7809b32ad7d62fa1a": {
          "model_module": "@jupyter-widgets/controls",
          "model_name": "FloatProgressModel",
          "model_module_version": "1.5.0",
          "state": {
            "_dom_classes": [],
            "_model_module": "@jupyter-widgets/controls",
            "_model_module_version": "1.5.0",
            "_model_name": "FloatProgressModel",
            "_view_count": null,
            "_view_module": "@jupyter-widgets/controls",
            "_view_module_version": "1.5.0",
            "_view_name": "ProgressView",
            "bar_style": "success",
            "description": "",
            "description_tooltip": null,
            "layout": "IPY_MODEL_8bbed44903ae4453941467882e1425f5",
            "max": 406,
            "min": 0,
            "orientation": "horizontal",
            "style": "IPY_MODEL_54ac7fbd2b2047ceaa055ecf61f5648d",
            "value": 406
          }
        },
        "56a402264a52442d868d2d116a641319": {
          "model_module": "@jupyter-widgets/controls",
          "model_name": "HTMLModel",
          "model_module_version": "1.5.0",
          "state": {
            "_dom_classes": [],
            "_model_module": "@jupyter-widgets/controls",
            "_model_module_version": "1.5.0",
            "_model_name": "HTMLModel",
            "_view_count": null,
            "_view_module": "@jupyter-widgets/controls",
            "_view_module_version": "1.5.0",
            "_view_name": "HTMLView",
            "description": "",
            "description_tooltip": null,
            "layout": "IPY_MODEL_81d6406b72ab4560aa12147dc234c824",
            "placeholder": "​",
            "style": "IPY_MODEL_8cdd6eaf81fa42e38e3e4e5b6dd738fa",
            "value": " 406/406 [00:16&lt;00:00, 23.08it/s]"
          }
        },
        "ee09abcd8c784291b6bdfe599d09786a": {
          "model_module": "@jupyter-widgets/base",
          "model_name": "LayoutModel",
          "model_module_version": "1.2.0",
          "state": {
            "_model_module": "@jupyter-widgets/base",
            "_model_module_version": "1.2.0",
            "_model_name": "LayoutModel",
            "_view_count": null,
            "_view_module": "@jupyter-widgets/base",
            "_view_module_version": "1.2.0",
            "_view_name": "LayoutView",
            "align_content": null,
            "align_items": null,
            "align_self": null,
            "border": null,
            "bottom": null,
            "display": null,
            "flex": null,
            "flex_flow": null,
            "grid_area": null,
            "grid_auto_columns": null,
            "grid_auto_flow": null,
            "grid_auto_rows": null,
            "grid_column": null,
            "grid_gap": null,
            "grid_row": null,
            "grid_template_areas": null,
            "grid_template_columns": null,
            "grid_template_rows": null,
            "height": null,
            "justify_content": null,
            "justify_items": null,
            "left": null,
            "margin": null,
            "max_height": null,
            "max_width": null,
            "min_height": null,
            "min_width": null,
            "object_fit": null,
            "object_position": null,
            "order": null,
            "overflow": null,
            "overflow_x": null,
            "overflow_y": null,
            "padding": null,
            "right": null,
            "top": null,
            "visibility": null,
            "width": null
          }
        },
        "631d9cd427ed48ad900b9d466334bb4e": {
          "model_module": "@jupyter-widgets/base",
          "model_name": "LayoutModel",
          "model_module_version": "1.2.0",
          "state": {
            "_model_module": "@jupyter-widgets/base",
            "_model_module_version": "1.2.0",
            "_model_name": "LayoutModel",
            "_view_count": null,
            "_view_module": "@jupyter-widgets/base",
            "_view_module_version": "1.2.0",
            "_view_name": "LayoutView",
            "align_content": null,
            "align_items": null,
            "align_self": null,
            "border": null,
            "bottom": null,
            "display": null,
            "flex": null,
            "flex_flow": null,
            "grid_area": null,
            "grid_auto_columns": null,
            "grid_auto_flow": null,
            "grid_auto_rows": null,
            "grid_column": null,
            "grid_gap": null,
            "grid_row": null,
            "grid_template_areas": null,
            "grid_template_columns": null,
            "grid_template_rows": null,
            "height": null,
            "justify_content": null,
            "justify_items": null,
            "left": null,
            "margin": null,
            "max_height": null,
            "max_width": null,
            "min_height": null,
            "min_width": null,
            "object_fit": null,
            "object_position": null,
            "order": null,
            "overflow": null,
            "overflow_x": null,
            "overflow_y": null,
            "padding": null,
            "right": null,
            "top": null,
            "visibility": null,
            "width": null
          }
        },
        "cc3b1872405a4bef9712a2163581b6e0": {
          "model_module": "@jupyter-widgets/controls",
          "model_name": "DescriptionStyleModel",
          "model_module_version": "1.5.0",
          "state": {
            "_model_module": "@jupyter-widgets/controls",
            "_model_module_version": "1.5.0",
            "_model_name": "DescriptionStyleModel",
            "_view_count": null,
            "_view_module": "@jupyter-widgets/base",
            "_view_module_version": "1.2.0",
            "_view_name": "StyleView",
            "description_width": ""
          }
        },
        "8bbed44903ae4453941467882e1425f5": {
          "model_module": "@jupyter-widgets/base",
          "model_name": "LayoutModel",
          "model_module_version": "1.2.0",
          "state": {
            "_model_module": "@jupyter-widgets/base",
            "_model_module_version": "1.2.0",
            "_model_name": "LayoutModel",
            "_view_count": null,
            "_view_module": "@jupyter-widgets/base",
            "_view_module_version": "1.2.0",
            "_view_name": "LayoutView",
            "align_content": null,
            "align_items": null,
            "align_self": null,
            "border": null,
            "bottom": null,
            "display": null,
            "flex": null,
            "flex_flow": null,
            "grid_area": null,
            "grid_auto_columns": null,
            "grid_auto_flow": null,
            "grid_auto_rows": null,
            "grid_column": null,
            "grid_gap": null,
            "grid_row": null,
            "grid_template_areas": null,
            "grid_template_columns": null,
            "grid_template_rows": null,
            "height": null,
            "justify_content": null,
            "justify_items": null,
            "left": null,
            "margin": null,
            "max_height": null,
            "max_width": null,
            "min_height": null,
            "min_width": null,
            "object_fit": null,
            "object_position": null,
            "order": null,
            "overflow": null,
            "overflow_x": null,
            "overflow_y": null,
            "padding": null,
            "right": null,
            "top": null,
            "visibility": null,
            "width": null
          }
        },
        "54ac7fbd2b2047ceaa055ecf61f5648d": {
          "model_module": "@jupyter-widgets/controls",
          "model_name": "ProgressStyleModel",
          "model_module_version": "1.5.0",
          "state": {
            "_model_module": "@jupyter-widgets/controls",
            "_model_module_version": "1.5.0",
            "_model_name": "ProgressStyleModel",
            "_view_count": null,
            "_view_module": "@jupyter-widgets/base",
            "_view_module_version": "1.2.0",
            "_view_name": "StyleView",
            "bar_color": null,
            "description_width": ""
          }
        },
        "81d6406b72ab4560aa12147dc234c824": {
          "model_module": "@jupyter-widgets/base",
          "model_name": "LayoutModel",
          "model_module_version": "1.2.0",
          "state": {
            "_model_module": "@jupyter-widgets/base",
            "_model_module_version": "1.2.0",
            "_model_name": "LayoutModel",
            "_view_count": null,
            "_view_module": "@jupyter-widgets/base",
            "_view_module_version": "1.2.0",
            "_view_name": "LayoutView",
            "align_content": null,
            "align_items": null,
            "align_self": null,
            "border": null,
            "bottom": null,
            "display": null,
            "flex": null,
            "flex_flow": null,
            "grid_area": null,
            "grid_auto_columns": null,
            "grid_auto_flow": null,
            "grid_auto_rows": null,
            "grid_column": null,
            "grid_gap": null,
            "grid_row": null,
            "grid_template_areas": null,
            "grid_template_columns": null,
            "grid_template_rows": null,
            "height": null,
            "justify_content": null,
            "justify_items": null,
            "left": null,
            "margin": null,
            "max_height": null,
            "max_width": null,
            "min_height": null,
            "min_width": null,
            "object_fit": null,
            "object_position": null,
            "order": null,
            "overflow": null,
            "overflow_x": null,
            "overflow_y": null,
            "padding": null,
            "right": null,
            "top": null,
            "visibility": null,
            "width": null
          }
        },
        "8cdd6eaf81fa42e38e3e4e5b6dd738fa": {
          "model_module": "@jupyter-widgets/controls",
          "model_name": "DescriptionStyleModel",
          "model_module_version": "1.5.0",
          "state": {
            "_model_module": "@jupyter-widgets/controls",
            "_model_module_version": "1.5.0",
            "_model_name": "DescriptionStyleModel",
            "_view_count": null,
            "_view_module": "@jupyter-widgets/base",
            "_view_module_version": "1.2.0",
            "_view_name": "StyleView",
            "description_width": ""
          }
        },
        "8620cac5ff1046959fd1bb58ba9f9b47": {
          "model_module": "@jupyter-widgets/controls",
          "model_name": "HBoxModel",
          "model_module_version": "1.5.0",
          "state": {
            "_dom_classes": [],
            "_model_module": "@jupyter-widgets/controls",
            "_model_module_version": "1.5.0",
            "_model_name": "HBoxModel",
            "_view_count": null,
            "_view_module": "@jupyter-widgets/controls",
            "_view_module_version": "1.5.0",
            "_view_name": "HBoxView",
            "box_style": "",
            "children": [
              "IPY_MODEL_04090702a1d1444191530cad7e9df20a",
              "IPY_MODEL_d137705878404c29849bed491f04eaff",
              "IPY_MODEL_77564fb1a4dc4a7b87424ddab92fd60f"
            ],
            "layout": "IPY_MODEL_7b85c6abc63e489db8eff92d95c20730"
          }
        },
        "04090702a1d1444191530cad7e9df20a": {
          "model_module": "@jupyter-widgets/controls",
          "model_name": "HTMLModel",
          "model_module_version": "1.5.0",
          "state": {
            "_dom_classes": [],
            "_model_module": "@jupyter-widgets/controls",
            "_model_module_version": "1.5.0",
            "_model_name": "HTMLModel",
            "_view_count": null,
            "_view_module": "@jupyter-widgets/controls",
            "_view_module_version": "1.5.0",
            "_view_name": "HTMLView",
            "description": "",
            "description_tooltip": null,
            "layout": "IPY_MODEL_baca26543b78465bb79fb203b72b0061",
            "placeholder": "​",
            "style": "IPY_MODEL_005465a6b0f84485a9499270c6582e5b",
            "value": "100%"
          }
        },
        "d137705878404c29849bed491f04eaff": {
          "model_module": "@jupyter-widgets/controls",
          "model_name": "FloatProgressModel",
          "model_module_version": "1.5.0",
          "state": {
            "_dom_classes": [],
            "_model_module": "@jupyter-widgets/controls",
            "_model_module_version": "1.5.0",
            "_model_name": "FloatProgressModel",
            "_view_count": null,
            "_view_module": "@jupyter-widgets/controls",
            "_view_module_version": "1.5.0",
            "_view_name": "ProgressView",
            "bar_style": "success",
            "description": "",
            "description_tooltip": null,
            "layout": "IPY_MODEL_82514f9239bd4fe8ac8741dc18e81331",
            "max": 406,
            "min": 0,
            "orientation": "horizontal",
            "style": "IPY_MODEL_d41c8d68995549348f9d2ea34411fe27",
            "value": 406
          }
        },
        "77564fb1a4dc4a7b87424ddab92fd60f": {
          "model_module": "@jupyter-widgets/controls",
          "model_name": "HTMLModel",
          "model_module_version": "1.5.0",
          "state": {
            "_dom_classes": [],
            "_model_module": "@jupyter-widgets/controls",
            "_model_module_version": "1.5.0",
            "_model_name": "HTMLModel",
            "_view_count": null,
            "_view_module": "@jupyter-widgets/controls",
            "_view_module_version": "1.5.0",
            "_view_name": "HTMLView",
            "description": "",
            "description_tooltip": null,
            "layout": "IPY_MODEL_a6ebc755dd144ed1aeeb5223f59fa547",
            "placeholder": "​",
            "style": "IPY_MODEL_87130aaf26fe426d89fa8f52ddd3c820",
            "value": " 406/406 [00:17&lt;00:00, 22.56it/s]"
          }
        },
        "7b85c6abc63e489db8eff92d95c20730": {
          "model_module": "@jupyter-widgets/base",
          "model_name": "LayoutModel",
          "model_module_version": "1.2.0",
          "state": {
            "_model_module": "@jupyter-widgets/base",
            "_model_module_version": "1.2.0",
            "_model_name": "LayoutModel",
            "_view_count": null,
            "_view_module": "@jupyter-widgets/base",
            "_view_module_version": "1.2.0",
            "_view_name": "LayoutView",
            "align_content": null,
            "align_items": null,
            "align_self": null,
            "border": null,
            "bottom": null,
            "display": null,
            "flex": null,
            "flex_flow": null,
            "grid_area": null,
            "grid_auto_columns": null,
            "grid_auto_flow": null,
            "grid_auto_rows": null,
            "grid_column": null,
            "grid_gap": null,
            "grid_row": null,
            "grid_template_areas": null,
            "grid_template_columns": null,
            "grid_template_rows": null,
            "height": null,
            "justify_content": null,
            "justify_items": null,
            "left": null,
            "margin": null,
            "max_height": null,
            "max_width": null,
            "min_height": null,
            "min_width": null,
            "object_fit": null,
            "object_position": null,
            "order": null,
            "overflow": null,
            "overflow_x": null,
            "overflow_y": null,
            "padding": null,
            "right": null,
            "top": null,
            "visibility": null,
            "width": null
          }
        },
        "baca26543b78465bb79fb203b72b0061": {
          "model_module": "@jupyter-widgets/base",
          "model_name": "LayoutModel",
          "model_module_version": "1.2.0",
          "state": {
            "_model_module": "@jupyter-widgets/base",
            "_model_module_version": "1.2.0",
            "_model_name": "LayoutModel",
            "_view_count": null,
            "_view_module": "@jupyter-widgets/base",
            "_view_module_version": "1.2.0",
            "_view_name": "LayoutView",
            "align_content": null,
            "align_items": null,
            "align_self": null,
            "border": null,
            "bottom": null,
            "display": null,
            "flex": null,
            "flex_flow": null,
            "grid_area": null,
            "grid_auto_columns": null,
            "grid_auto_flow": null,
            "grid_auto_rows": null,
            "grid_column": null,
            "grid_gap": null,
            "grid_row": null,
            "grid_template_areas": null,
            "grid_template_columns": null,
            "grid_template_rows": null,
            "height": null,
            "justify_content": null,
            "justify_items": null,
            "left": null,
            "margin": null,
            "max_height": null,
            "max_width": null,
            "min_height": null,
            "min_width": null,
            "object_fit": null,
            "object_position": null,
            "order": null,
            "overflow": null,
            "overflow_x": null,
            "overflow_y": null,
            "padding": null,
            "right": null,
            "top": null,
            "visibility": null,
            "width": null
          }
        },
        "005465a6b0f84485a9499270c6582e5b": {
          "model_module": "@jupyter-widgets/controls",
          "model_name": "DescriptionStyleModel",
          "model_module_version": "1.5.0",
          "state": {
            "_model_module": "@jupyter-widgets/controls",
            "_model_module_version": "1.5.0",
            "_model_name": "DescriptionStyleModel",
            "_view_count": null,
            "_view_module": "@jupyter-widgets/base",
            "_view_module_version": "1.2.0",
            "_view_name": "StyleView",
            "description_width": ""
          }
        },
        "82514f9239bd4fe8ac8741dc18e81331": {
          "model_module": "@jupyter-widgets/base",
          "model_name": "LayoutModel",
          "model_module_version": "1.2.0",
          "state": {
            "_model_module": "@jupyter-widgets/base",
            "_model_module_version": "1.2.0",
            "_model_name": "LayoutModel",
            "_view_count": null,
            "_view_module": "@jupyter-widgets/base",
            "_view_module_version": "1.2.0",
            "_view_name": "LayoutView",
            "align_content": null,
            "align_items": null,
            "align_self": null,
            "border": null,
            "bottom": null,
            "display": null,
            "flex": null,
            "flex_flow": null,
            "grid_area": null,
            "grid_auto_columns": null,
            "grid_auto_flow": null,
            "grid_auto_rows": null,
            "grid_column": null,
            "grid_gap": null,
            "grid_row": null,
            "grid_template_areas": null,
            "grid_template_columns": null,
            "grid_template_rows": null,
            "height": null,
            "justify_content": null,
            "justify_items": null,
            "left": null,
            "margin": null,
            "max_height": null,
            "max_width": null,
            "min_height": null,
            "min_width": null,
            "object_fit": null,
            "object_position": null,
            "order": null,
            "overflow": null,
            "overflow_x": null,
            "overflow_y": null,
            "padding": null,
            "right": null,
            "top": null,
            "visibility": null,
            "width": null
          }
        },
        "d41c8d68995549348f9d2ea34411fe27": {
          "model_module": "@jupyter-widgets/controls",
          "model_name": "ProgressStyleModel",
          "model_module_version": "1.5.0",
          "state": {
            "_model_module": "@jupyter-widgets/controls",
            "_model_module_version": "1.5.0",
            "_model_name": "ProgressStyleModel",
            "_view_count": null,
            "_view_module": "@jupyter-widgets/base",
            "_view_module_version": "1.2.0",
            "_view_name": "StyleView",
            "bar_color": null,
            "description_width": ""
          }
        },
        "a6ebc755dd144ed1aeeb5223f59fa547": {
          "model_module": "@jupyter-widgets/base",
          "model_name": "LayoutModel",
          "model_module_version": "1.2.0",
          "state": {
            "_model_module": "@jupyter-widgets/base",
            "_model_module_version": "1.2.0",
            "_model_name": "LayoutModel",
            "_view_count": null,
            "_view_module": "@jupyter-widgets/base",
            "_view_module_version": "1.2.0",
            "_view_name": "LayoutView",
            "align_content": null,
            "align_items": null,
            "align_self": null,
            "border": null,
            "bottom": null,
            "display": null,
            "flex": null,
            "flex_flow": null,
            "grid_area": null,
            "grid_auto_columns": null,
            "grid_auto_flow": null,
            "grid_auto_rows": null,
            "grid_column": null,
            "grid_gap": null,
            "grid_row": null,
            "grid_template_areas": null,
            "grid_template_columns": null,
            "grid_template_rows": null,
            "height": null,
            "justify_content": null,
            "justify_items": null,
            "left": null,
            "margin": null,
            "max_height": null,
            "max_width": null,
            "min_height": null,
            "min_width": null,
            "object_fit": null,
            "object_position": null,
            "order": null,
            "overflow": null,
            "overflow_x": null,
            "overflow_y": null,
            "padding": null,
            "right": null,
            "top": null,
            "visibility": null,
            "width": null
          }
        },
        "87130aaf26fe426d89fa8f52ddd3c820": {
          "model_module": "@jupyter-widgets/controls",
          "model_name": "DescriptionStyleModel",
          "model_module_version": "1.5.0",
          "state": {
            "_model_module": "@jupyter-widgets/controls",
            "_model_module_version": "1.5.0",
            "_model_name": "DescriptionStyleModel",
            "_view_count": null,
            "_view_module": "@jupyter-widgets/base",
            "_view_module_version": "1.2.0",
            "_view_name": "StyleView",
            "description_width": ""
          }
        }
      }
    }
  },
  "nbformat": 4,
  "nbformat_minor": 5
}